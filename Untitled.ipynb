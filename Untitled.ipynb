{
 "cells": [
  {
   "cell_type": "code",
   "execution_count": null,
   "id": "c380f3f1-3a1c-4695-810e-810c1fae23c4",
   "metadata": {},
   "outputs": [
    {
     "name": "stdout",
     "output_type": "stream",
     "text": [
      "Found 76 images belonging to 6 classes.\n",
      "Found 6 images belonging to 6 classes.\n",
      "Epoch 1/15\n"
     ]
    },
    {
     "name": "stderr",
     "output_type": "stream",
     "text": [
      "C:\\Users\\Samuel-Adrian\\anaconda3\\envs\\env_si\\Lib\\site-packages\\keras\\src\\trainers\\data_adapters\\py_dataset_adapter.py:121: UserWarning: Your `PyDataset` class should call `super().__init__(**kwargs)` in its constructor. `**kwargs` can include `workers`, `use_multiprocessing`, `max_queue_size`. Do not pass these arguments to `fit()`, as they will be ignored.\n",
      "  self._warn_if_super_not_called()\n"
     ]
    }
   ],
   "source": [
    "import tensorflow as tf\n",
    "from tensorflow.keras.preprocessing.image import ImageDataGenerator\n",
    "import os\n",
    "from sklearn.metrics import classification_report, confusion_matrix\n",
    "import numpy as np\n",
    "\n",
    "# Aici setez directoarele pentru antrenament și test\n",
    "train_dir = 'Train'\n",
    "test_dir = 'Test'\n",
    "\n",
    "# Creez un ImageDataGenerator pentru antrenament cu augmentare și pentru test fără augmentare\n",
    "train_datagen = ImageDataGenerator(\n",
    "    rescale=0.2,\n",
    "    rotation_range=20,\n",
    "    width_shift_range=0.2,\n",
    "    height_shift_range=0.2,\n",
    "    shear_range=0.2,\n",
    "    zoom_range=0.2,\n",
    "    horizontal_flip=True,\n",
    "    fill_mode='nearest'\n",
    ")\n",
    "\n",
    "test_datagen = ImageDataGenerator(rescale=0.2)\n",
    "\n",
    "# Încarc datele de antrenament din directorul specificat\n",
    "train_generator = train_datagen.flow_from_directory(\n",
    "    train_dir,\n",
    "    target_size=(150, 150),\n",
    "    batch_size=32,\n",
    "    class_mode='categorical'\n",
    ")\n",
    "\n",
    "# Încarc datele de test din directorul specificat\n",
    "test_generator = test_datagen.flow_from_directory(\n",
    "    test_dir,\n",
    "    target_size=(150, 150),\n",
    "    batch_size=32,\n",
    "    class_mode='categorical',\n",
    "    shuffle=False\n",
    ")\n",
    "\n",
    "# Aici creez un model CNN simplu\n",
    "model = tf.keras.models.Sequential([\n",
    "    tf.keras.layers.Input(shape=(150, 150, 3)),\n",
    "    tf.keras.layers.Conv2D(32, (3, 3), activation='relu'),\n",
    "    tf.keras.layers.MaxPooling2D(2, 2),\n",
    "    tf.keras.layers.Conv2D(64, (3, 3), activation='relu'),\n",
    "    tf.keras.layers.MaxPooling2D(2, 2),\n",
    "    tf.keras.layers.Flatten(),\n",
    "    tf.keras.layers.Dense(128, activation='relu'),\n",
    "    tf.keras.layers.Dense(len(train_generator.class_indices), activation='softmax')\n",
    "])\n",
    "\n",
    "# Compilez modelul folosind optimizatorul Adam și pierderea categorical cross-entropy\n",
    "model.compile(optimizer='adam',\n",
    "              loss='categorical_crossentropy',\n",
    "              metrics=['accuracy'])\n",
    "\n",
    "# Antrenez modelul pe datele de antrenament\n",
    "history = model.fit(\n",
    "    train_generator,\n",
    "    epochs=15,\n",
    "    validation_data=test_generator\n",
    ")\n",
    "\n",
    "# Evaluez modelul pe datele de test și afișez acuratețea\n",
    "test_loss, test_acc = model.evaluate(test_generator)\n",
    "print(f\"Test accuracy: {test_acc}\")\n",
    "\n",
    "# Generez predicțiile pentru setul de test\n",
    "Y_pred = model.predict(test_generator)\n",
    "y_pred = np.argmax(Y_pred, axis=1)\n",
    "\n",
    "# Afișez raportul de clasificare pentru a vedea performanța pe fiecare clasă\n",
    "print('Classification Report')\n",
    "print(classification_report(test_generator.classes, y_pred, target_names=list(test_generator.class_indices.keys())))\n",
    "\n",
    "# Afișez matricea de confuzie pentru a vedea detaliile clasificarilor corecte și greșite\n",
    "print('Confusion Matrix')\n",
    "print(confusion_matrix(test_generator.classes, y_pred))\n",
    "\n",
    "# Salvez modelul antrenat într-un fișier\n",
    "model.save('my_model.h5')\n",
    "\n",
    "# Încarc modelul salvat și îl evaluez din nou pe setul de test pentru a verifica dacă a fost salvat corect\n",
    "loaded_model = tf.keras.models.load_model('my_model.h5')\n",
    "loaded_model.evaluate(test_generator)\n"
   ]
  },
  {
   "cell_type": "code",
   "execution_count": null,
   "id": "8de86d68-1c60-4435-bed2-1c0c523c2227",
   "metadata": {},
   "outputs": [],
   "source": []
  }
 ],
 "metadata": {
  "kernelspec": {
   "display_name": "Python 3 (ipykernel)",
   "language": "python",
   "name": "python3"
  },
  "language_info": {
   "codemirror_mode": {
    "name": "ipython",
    "version": 3
   },
   "file_extension": ".py",
   "mimetype": "text/x-python",
   "name": "python",
   "nbconvert_exporter": "python",
   "pygments_lexer": "ipython3",
   "version": "3.12.2"
  }
 },
 "nbformat": 4,
 "nbformat_minor": 5
}
