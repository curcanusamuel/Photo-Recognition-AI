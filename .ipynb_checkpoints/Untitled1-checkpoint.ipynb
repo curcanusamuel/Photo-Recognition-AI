{
 "cells": [
  {
   "cell_type": "code",
   "execution_count": null,
   "id": "170becc6-2f0d-4c1f-abc3-43f81b95181a",
   "metadata": {},
   "outputs": [],
   "source": [
    "# Instalează TensorFlow și Pillow\n",
    "!pip install tensorflow pillow\n",
    "\n",
    "# Importă bibliotecile necesare\n",
    "import tensorflow as tf\n",
    "from tensorflow.keras.preprocessing import image\n",
    "from tensorflow.keras.applications.resnet50 import ResNet50, preprocess_input, decode_predictions\n",
    "import numpy as np\n",
    "import os\n",
    "from PIL import Image\n",
    "\n",
    "# Încarcă modelul pre-antrenat\n",
    "model = ResNet50(weights='imagenet')\n",
    "\n",
    "def classify_image(img_path):\n",
    "    img = image.load_img(img_path, target_size=(224, 224))\n",
    "    img_array = image.img_to_array(img)\n",
    "    img_array = np.expand_dims(img_array, axis=0)\n",
    "    img_array = preprocess_input(img_array)\n",
    "\n",
    "    predictions = model.predict(img_array)\n",
    "    decoded_predictions = decode_predictions(predictions, top=3)[0]\n",
    "    \n",
    "    return decoded_predictions\n",
    "\n",
    "# Setează calea către folderul cu imagini\n",
    "image_folder = r\"C:\\Users\\Samuel-Adrian\\Desktop\\SI\"\n",
    "image_names = [\"1.jpg\", \"2.jpg\", \"3.jpg\", \"4.jpg\", \"5.jpg\"]\n",
    "image_paths = [os.path.join(image_folder, img_name) for img_name in image_names]\n",
    "\n",
    "# Clasifică imaginile\n",
    "results = {}\n",
    "for img_path in image_paths:\n",
    "    img_name = os.path.basename(img_path)\n",
    "    results[img_name] = classify_image(img_path)\n",
    "\n",
    "# Afișează rezultatele\n",
    "for img_name, predictions in results.items():\n",
    "    print(f\"Rezultate pentru {img_name}:\")\n",
    "    for pred in predictions:\n",
    "        print(f\" - {pred[1]}: {pred[2]*100:.2f}%\")\n"
   ]
  }
 ],
 "metadata": {
  "kernelspec": {
   "display_name": "Python 3 (ipykernel)",
   "language": "python",
   "name": "python3"
  },
  "language_info": {
   "codemirror_mode": {
    "name": "ipython",
    "version": 3
   },
   "file_extension": ".py",
   "mimetype": "text/x-python",
   "name": "python",
   "nbconvert_exporter": "python",
   "pygments_lexer": "ipython3",
   "version": "3.12.2"
  }
 },
 "nbformat": 4,
 "nbformat_minor": 5
}
